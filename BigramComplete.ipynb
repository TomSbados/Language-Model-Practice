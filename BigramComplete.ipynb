{
 "cells": [
  {
   "cell_type": "code",
   "execution_count": 142,
   "id": "273f8e78-1029-4ea7-9450-16808224d970",
   "metadata": {},
   "outputs": [],
   "source": [
    "import tiktoken\n",
    "import torch\n",
    "import torch.nn as nn\n",
    "from torch.nn import functional as F\n",
    "device = 'mps'"
   ]
  },
  {
   "cell_type": "code",
   "execution_count": 144,
   "id": "352bd18c-c79a-4697-93d3-6d9f7c827110",
   "metadata": {},
   "outputs": [
    {
     "data": {
      "text/plain": [
       "'mps'"
      ]
     },
     "execution_count": 144,
     "metadata": {},
     "output_type": "execute_result"
    }
   ],
   "source": [
    "device"
   ]
  },
  {
   "cell_type": "code",
   "execution_count": 150,
   "id": "e5fa1344-ddc5-48a6-9b14-765c80383132",
   "metadata": {},
   "outputs": [],
   "source": [
    "with open('tiny_shakespeare.txt', 'r', encoding='utf-8') as f:\n",
    "    text = f.read()"
   ]
  },
  {
   "cell_type": "code",
   "execution_count": 152,
   "id": "093e696d-9db1-4b5e-a8b2-408e49d025bd",
   "metadata": {},
   "outputs": [
    {
     "name": "stdout",
     "output_type": "stream",
     "text": [
      "First Citizen:\n",
      "Before we proceed any further, hear me speak.\n",
      "\n",
      "All:\n",
      "Speak, speak.\n",
      "\n",
      "First Citizen:\n",
      "You\n"
     ]
    }
   ],
   "source": [
    "print(text[:100])"
   ]
  },
  {
   "cell_type": "code",
   "execution_count": 154,
   "id": "b270c502-eb93-4e3c-82a6-6d67a0ebf242",
   "metadata": {},
   "outputs": [],
   "source": [
    "chars = sorted(list(set(text)))"
   ]
  },
  {
   "cell_type": "code",
   "execution_count": 156,
   "id": "63d1ca08-21c2-44e5-9a3f-70ba14e4c07a",
   "metadata": {},
   "outputs": [],
   "source": [
    "stoi = { c:i for i, c in enumerate(chars)}\n",
    "itos = { i:c for i, c in enumerate(chars)}\n",
    "encode = lambda s: [stoi[c] for c in s]\n",
    "decode = lambda l: ''.join(itos[i] for i in l)"
   ]
  },
  {
   "cell_type": "code",
   "execution_count": 158,
   "id": "9a0ab794-ebef-4407-a477-6a55f19660cf",
   "metadata": {},
   "outputs": [],
   "source": [
    "enc = tiktoken.encoding_for_model(\"gpt2\")\n",
    "assert enc.decode(enc.encode('Hello World')) == 'Hello World'"
   ]
  },
  {
   "cell_type": "code",
   "execution_count": 160,
   "id": "50cea1df-6be5-4d55-ad1f-c7c86f282db8",
   "metadata": {},
   "outputs": [
    {
     "data": {
      "text/plain": [
       "tensor([18, 47, 56, 57, 58,  1, 15, 47, 58, 47, 64, 43, 52, 10,  0, 14, 43, 44,\n",
       "        53, 56, 43,  1, 61, 43,  1, 54, 56, 53, 41, 43, 43, 42,  1, 39, 52, 63,\n",
       "         1, 44, 59, 56, 58, 46, 43, 56,  6,  1, 46, 43, 39, 56,  1, 51, 43,  1,\n",
       "        57, 54, 43, 39, 49,  8,  0,  0, 13, 50, 50, 10,  0, 31, 54, 43, 39, 49,\n",
       "         6,  1, 57, 54, 43, 39, 49,  8,  0,  0, 18, 47, 56, 57, 58,  1, 15, 47,\n",
       "        58, 47, 64, 43, 52, 10,  0, 37, 53, 59])"
      ]
     },
     "execution_count": 160,
     "metadata": {},
     "output_type": "execute_result"
    }
   ],
   "source": [
    "data = torch.tensor(encode(text), dtype=torch.long)\n",
    "data[:100]"
   ]
  },
  {
   "cell_type": "code",
   "execution_count": 162,
   "id": "20583b03-361a-440b-a6cf-c375a02308c9",
   "metadata": {},
   "outputs": [],
   "source": [
    "vocab_size = len(chars)"
   ]
  },
  {
   "cell_type": "code",
   "execution_count": 164,
   "id": "586e5b25-305e-4f5b-869b-cb675213ec66",
   "metadata": {
    "scrolled": true
   },
   "outputs": [
    {
     "data": {
      "text/plain": [
       "'3PYZ[\"0P[PaLU+!/LMVYL\"^L\"WYVJLLK\"HU`\"M\\\\Y[OLY\\'\"OLHY\"TL\"ZWLHR)!!.SS+!@WLHR\\'\"ZWLHR)!!3PYZ[\"0P[PaLU+!FV\\\\'"
      ]
     },
     "execution_count": 164,
     "metadata": {},
     "output_type": "execute_result"
    }
   ],
   "source": [
    "enc.decode(list(data[:100]))"
   ]
  },
  {
   "cell_type": "code",
   "execution_count": 166,
   "id": "fb78a0d0-621a-4fee-bc7d-3775df296553",
   "metadata": {},
   "outputs": [],
   "source": [
    "n = int(0.9 * len(data))\n",
    "train_data = data[:n]\n",
    "val_data = data[n:]\n"
   ]
  },
  {
   "cell_type": "code",
   "execution_count": 168,
   "id": "d586de6c-69f3-4ca6-8792-97d418791209",
   "metadata": {},
   "outputs": [
    {
     "name": "stdout",
     "output_type": "stream",
     "text": [
      "______________________\n",
      "When the context is || tensor([47]) || the target is || 58 ||\n",
      "When the context is || P || the target is || [ ||\n",
      "______________________\n",
      "When the context is || tensor([47, 58]) || the target is || 47 ||\n",
      "When the context is || P[ || the target is || P ||\n",
      "______________________\n",
      "When the context is || tensor([47, 58, 47]) || the target is || 64 ||\n",
      "When the context is || P[P || the target is || a ||\n",
      "______________________\n",
      "When the context is || tensor([47, 58, 47, 64]) || the target is || 43 ||\n",
      "When the context is || P[Pa || the target is || L ||\n",
      "______________________\n",
      "When the context is || tensor([47, 58, 47, 64, 43]) || the target is || 52 ||\n",
      "When the context is || P[PaL || the target is || U ||\n"
     ]
    }
   ],
   "source": [
    "block_size = 5\n",
    "x = train_data[7:block_size+7]\n",
    "y = train_data[8:block_size + 8]\n",
    "for i in range(block_size):\n",
    "    context = x[:i + 1]\n",
    "    target = y[i]\n",
    "    print('______________________')\n",
    "    print(f'When the context is || {context} || the target is || {target} ||')\n",
    "    print(f'When the context is || {enc.decode(context.numpy())} || the target is || {enc.decode([target.item()])} ||')"
   ]
  },
  {
   "cell_type": "code",
   "execution_count": 186,
   "id": "12ba0277-2ee2-4a96-b163-1796a24a4ecf",
   "metadata": {},
   "outputs": [],
   "source": [
    "torch.manual_seed(43)\n",
    "\n",
    "batch_size = 4\n",
    "block_size = 4\n",
    "\n",
    "def get_batch(split):\n",
    "    data = train_data if split == 'train' else val_data\n",
    "    ix = torch.randint(len(data) - block_size, (batch_size,))\n",
    "    x = torch.stack([data[i:i+block_size] for i in ix])\n",
    "    y = torch.stack([data[i+1:i+block_size+1] for i in ix])\n",
    "    x, y = x.to(device), y.to(device) \n",
    "    return x, y"
   ]
  },
  {
   "cell_type": "code",
   "execution_count": 188,
   "id": "4763cdb3-75aa-49f8-8354-a54140811bc1",
   "metadata": {},
   "outputs": [],
   "source": [
    "xb, yb = get_batch(train_data)"
   ]
  },
  {
   "cell_type": "code",
   "execution_count": 174,
   "id": "4cfaada8-5897-48de-b461-d5f07e2b1ec7",
   "metadata": {},
   "outputs": [
    {
     "data": {
      "text/plain": [
       "tensor([[58, 47, 44, 63],\n",
       "        [43, 52,  1, 58],\n",
       "        [32, 21, 31, 32],\n",
       "        [ 1, 51, 53, 53]])"
      ]
     },
     "execution_count": 174,
     "metadata": {},
     "output_type": "execute_result"
    }
   ],
   "source": [
    "xb "
   ]
  },
  {
   "cell_type": "code",
   "execution_count": 273,
   "id": "d85bd825-e472-498f-9391-50fed715e9d0",
   "metadata": {},
   "outputs": [
    {
     "name": "stdout",
     "output_type": "stream",
     "text": [
      "torch.Size([256, 65])\n",
      "tensor(4.7225, device='mps:0', grad_fn=<NllLossBackward0>)\n",
      "\n",
      "mZ:phazL'?hVe;'jEw'jtsna&aog&xaOR;QzwXpr?hlj.-lOb?tBI;E,wRJnrj-.pZbcI?TuWPUjfHphWG:wkz!---LdlGlQ &vl\n"
     ]
    }
   ],
   "source": [
    "class BigramLanguageModel(nn.Module):\n",
    "    def __init__(self, vocab_size):\n",
    "        super().__init__()\n",
    "        self.token_embedding_table = nn.Embedding(vocab_size, vocab_size)\n",
    "    def forward(self, idx, targets=None):\n",
    "        logits = self. token_embedding_table(idx)\n",
    "\n",
    "        if targets is None:\n",
    "            loss=None\n",
    "        else:\n",
    "            B, T, C  = logits.shape\n",
    "            logits = logits.view(B*T, C)\n",
    "            targets = targets.view(B*T)\n",
    "            loss = F.cross_entropy(logits, targets)\n",
    "        \n",
    "        return logits, loss\n",
    "\n",
    "    def generate(self, idx, max_new_tokens):\n",
    "        for _ in range(max_new_tokens):\n",
    "            logits, loss = self(idx)\n",
    "            logits = logits[:, -1, :] \n",
    "            probs = F.softmax(logits, dim=-1) \n",
    "            idx_next = torch.multinomial(probs, num_samples=1)\n",
    "            idx = torch.cat((idx, idx_next), dim=1)\n",
    "        return idx\n",
    "\n",
    "m = BigramLanguageModel(vocab_size)\n",
    "model = m.to(device)\n",
    "logits, loss = model(xb, yb)\n",
    "print(logits.shape) \n",
    "print(loss)\n",
    "print(decode(model.generate(idx = torch.zeros((1, 1), dtype=torch.long, device=device), max_new_tokens=100)[0].tolist()))"
   ]
  },
  {
   "cell_type": "code",
   "execution_count": 274,
   "id": "a8dca15b-3735-40ce-aa71-991cca4b08a1",
   "metadata": {},
   "outputs": [],
   "source": [
    "optimizer = torch.optim.AdamW(m.parameters(), lr=1e-2)"
   ]
  },
  {
   "cell_type": "code",
   "execution_count": 275,
   "id": "ac31a564-e942-4b35-aaa8-00b3f5f468cc",
   "metadata": {},
   "outputs": [],
   "source": [
    "total_loss = []\n",
    "batch_size = 64\n",
    "iterations = \n",
    "for steps in range(iterations):\n",
    "\n",
    "    xb, yb = get_batch('train')\n",
    "\n",
    "    logits, loss = m(xb, yb)\n",
    "    optimizer.zero_grad(set_to_none=True)\n",
    "    loss.backward()\n",
    "    optimizer.step()\n",
    "    total_loss.append(loss.item())\n"
   ]
  },
  {
   "cell_type": "code",
   "execution_count": 276,
   "id": "8f164f6b-cb44-4a4b-a272-fcc4912ddaab",
   "metadata": {},
   "outputs": [
    {
     "name": "stdout",
     "output_type": "stream",
     "text": [
      "\n",
      "ES: ld, ouprd , asiavers\n",
      "\n",
      "Maleerd che seatoty,\n",
      "RCsemay bo d dust Red ntore. st 'st\n",
      "FFdarean turms iCatheret khe 's ld, ghe y ve oumD:\n",
      "JUMzaro breDO: hain w,\n",
      "\n",
      "\n",
      "An mes's.\n",
      "T:\n",
      "3XTher, bund u wionguleroos hathande weritet k, y alematw 'd, t mallonowetandethere led d t,\n",
      "A om,\n",
      "MNTEENIwebe:\n",
      "ToroourizKEN kowe gay beir, f whr may stetlou reryim,vethwitllidNsZAPoavendimy st dinon yof id ms't p s s the e orein t o Tghars, bo o te cee cl aras t my btr,--four eriotyooworileves st seyoveniketo,-n or lyore, n h\n"
     ]
    }
   ],
   "source": [
    "print(decode(m.generate(idx = torch.zeros((1, 1), dtype=torch.long, device=device), max_new_tokens=500)[0].tolist()))"
   ]
  },
  {
   "cell_type": "code",
   "execution_count": 279,
   "id": "ad370c83-55fe-4bfe-a02f-28a535b306f4",
   "metadata": {},
   "outputs": [],
   "source": [
    "import matplotlib.pyplot as plt\n",
    "plt.style.use('bmh')"
   ]
  },
  {
   "cell_type": "code",
   "execution_count": 280,
   "id": "1260cb48-0b1c-48e2-bcc7-acc3c088af89",
   "metadata": {},
   "outputs": [
    {
     "data": {
      "text/plain": [
       "Text(0.5, 1.0, 'Log Loss')"
      ]
     },
     "execution_count": 280,
     "metadata": {},
     "output_type": "execute_result"
    },
    {
     "data": {
      "image/png": "[encoded data removed]",
      "text/plain": [
       "<Figure size 640x480 with 1 Axes>"
      ]
     },
     "metadata": {},
     "output_type": "display_data"
    }
   ],
   "source": [
    "plt.plot([i for i in range(iterations)], total_loss)\n",
    "plt.xlabel(\"Iteration\")\n",
    "plt.ylabel(\"Loss\")\n",
    "plt.title('Log Loss')"
   ]
  },
  {
   "cell_type": "code",
   "execution_count": null,
   "id": "59b9293e-b20b-453f-b343-01dcf174b870",
   "metadata": {},
   "outputs": [],
   "source": []
  }
 ],
 "metadata": {
  "kernelspec": {
   "display_name": "Python 3 (ipykernel)",
   "language": "python",
   "name": "python3"
  },
  "language_info": {
   "codemirror_mode": {
    "name": "ipython",
    "version": 3
   },
   "file_extension": ".py",
   "mimetype": "text/x-python",
   "name": "python",
   "nbconvert_exporter": "python",
   "pygments_lexer": "ipython3",
   "version": "3.12.4"
  }
 },
 "nbformat": 4,
 "nbformat_minor": 5
}
